{
 "cells": [
  {
   "cell_type": "code",
   "execution_count": 2,
   "metadata": {},
   "outputs": [],
   "source": [
    "from bbrest import BbRest\n",
    "from os import getenv as ge\n",
    "from dotenv import load_dotenv\n",
    "load_dotenv()\n",
    "\n",
    "bb = BbRest(url=ge('url'), key=ge('key'), secret=ge('secret'))"
   ]
  },
  {
   "cell_type": "code",
   "execution_count": 9,
   "metadata": {},
   "outputs": [],
   "source": [
    "payload = {   'title': f\"TestContent\",\n",
    "                            'description': \"Silly test\",\n",
    "                            'body': \"contentBody\",\n",
    "                            'position': 0,\n",
    "                            'contentHandler': {\n",
    "                            'id': 'resource/x-bb-externallink',\n",
    "                            'url': \"www.google.com\"\n",
    "                            },\n",
    "                            'availability': {\n",
    "                            'available': 'Yes',\n",
    "                            }\n",
    "          }"
   ]
  },
  {
   "cell_type": "code",
   "execution_count": 14,
   "metadata": {},
   "outputs": [
    {
     "data": {
      "text/plain": [
       "{'status': 400,\n",
       " 'message': 'Finding children for ROOT is applicable to Ultra courses only.',\n",
       " 'extraInfo': '7d837be144ab42558f205933a2c13f1f'}"
      ]
     },
     "execution_count": 14,
     "metadata": {},
     "output_type": "execute_result"
    }
   ],
   "source": [
    "bb.CreateChild(courseId='test-101',contentId='root',payload=payload).json()"
   ]
  },
  {
   "cell_type": "code",
   "execution_count": 11,
   "metadata": {},
   "outputs": [
    {
     "data": {
      "text/plain": [
       "{'id': '_4_1',\n",
       " 'uuid': '2578b1fc2c3b4a53bc2d24f870c416a1',\n",
       " 'externalId': 'test-102',\n",
       " 'dataSourceId': '_2_1',\n",
       " 'courseId': 'test-102',\n",
       " 'name': 'test-102',\n",
       " 'created': '2020-07-14T19:53:26.567Z',\n",
       " 'modified': '2020-07-14T19:53:26.710Z',\n",
       " 'organization': False,\n",
       " 'ultraStatus': 'Ultra',\n",
       " 'allowGuests': False,\n",
       " 'closedComplete': False,\n",
       " 'availability': {'available': 'Yes', 'duration': {'type': 'Continuous'}},\n",
       " 'enrollment': {'type': 'InstructorLed'},\n",
       " 'locale': {'force': False},\n",
       " 'externalAccessUrl': 'https://kubbrest.zapto.org/webapps/blackboard/execute/courseMain?course_id=_4_1&sc='}"
      ]
     },
     "execution_count": 11,
     "metadata": {},
     "output_type": "execute_result"
    }
   ],
   "source": [
    "bb.CreateCourse(payload={'name':\"test-102\", \"courseId\":\"test-102\", \"ultraStatus\":\"Ultra\"}).json()"
   ]
  },
  {
   "cell_type": "code",
   "execution_count": 12,
   "metadata": {},
   "outputs": [
    {
     "data": {
      "text/plain": [
       "{'id': '_18_1',\n",
       " 'parentId': '_15_1',\n",
       " 'title': 'TestContent',\n",
       " 'body': 'contentBody',\n",
       " 'description': 'Silly test',\n",
       " 'created': '2020-07-14T19:53:34.240Z',\n",
       " 'modified': '2020-07-14T19:53:34.277Z',\n",
       " 'position': 0,\n",
       " 'launchInNewWindow': False,\n",
       " 'reviewable': False,\n",
       " 'availability': {'available': 'Yes',\n",
       "  'allowGuests': True,\n",
       "  'adaptiveRelease': {}},\n",
       " 'contentHandler': {'id': 'resource/x-bb-externallink',\n",
       "  'url': 'www.google.com'}}"
      ]
     },
     "execution_count": 12,
     "metadata": {},
     "output_type": "execute_result"
    }
   ],
   "source": [
    "bb.CreateChild(courseId='test-102', contentId='root', payload=payload).json()"
   ]
  },
  {
   "cell_type": "code",
   "execution_count": 13,
   "metadata": {},
   "outputs": [
    {
     "ename": "AttributeError",
     "evalue": "'dict' object has no attribute 'url'",
     "output_type": "error",
     "traceback": [
      "\u001b[0;31m---------------------------------------------------------------------------\u001b[0m",
      "\u001b[0;31mAttributeError\u001b[0m                            Traceback (most recent call last)",
      "\u001b[0;32m<ipython-input-13-9d5c1cc9c97d>\u001b[0m in \u001b[0;36m<module>\u001b[0;34m\u001b[0m\n\u001b[0;32m----> 1\u001b[0;31m \u001b[0m_\u001b[0m\u001b[0;34m.\u001b[0m\u001b[0murl\u001b[0m\u001b[0;34m\u001b[0m\u001b[0;34m\u001b[0m\u001b[0m\n\u001b[0m",
      "\u001b[0;31mAttributeError\u001b[0m: 'dict' object has no attribute 'url'"
     ]
    }
   ],
   "source": []
  },
  {
   "cell_type": "code",
   "execution_count": null,
   "metadata": {},
   "outputs": [],
   "source": []
  }
 ],
 "metadata": {
  "kernelspec": {
   "display_name": "Python 3",
   "language": "python",
   "name": "python3"
  },
  "language_info": {
   "codemirror_mode": {
    "name": "ipython",
    "version": 3
   },
   "file_extension": ".py",
   "mimetype": "text/x-python",
   "name": "python",
   "nbconvert_exporter": "python",
   "pygments_lexer": "ipython3",
   "version": "3.8.2"
  }
 },
 "nbformat": 4,
 "nbformat_minor": 4
}
