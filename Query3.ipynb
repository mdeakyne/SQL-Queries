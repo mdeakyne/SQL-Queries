{
 "cells": [
  {
   "cell_type": "markdown",
   "metadata": {},
   "source": [
    "# Are there concerns about what instructors are using?\n",
    "* Are there unlisenced products instructors are using?\n",
    "* Who is using New Box View? \n",
    "* Force completion final exams? "
   ]
  },
  {
   "cell_type": "code",
   "execution_count": 2,
   "metadata": {},
   "outputs": [],
   "source": [
    "from sqlalchemy import create_engine\n",
    "from os import getenv as ge\n",
    "from dotenv import load_dotenv\n",
    "import pandas as pd\n",
    "\n",
    "load_dotenv()\n",
    "bbuser, bbpass, bbhost = ge('bbuser'), ge('bbpass'), ge('bbhost')\n",
    "con_string = f'oracle+cx_oracle://{bbuser}:{bbpass}@{bbhost}'\n",
    "engine = create_engine(con_string, max_identifier_length=128)"
   ]
  },
  {
   "cell_type": "markdown",
   "metadata": {},
   "source": [
    "## Which courses are using YouTube?"
   ]
  },
  {
   "cell_type": "code",
   "execution_count": 6,
   "metadata": {},
   "outputs": [
    {
     "data": {
      "text/html": [
       "<div>\n",
       "<style scoped>\n",
       "    .dataframe tbody tr th:only-of-type {\n",
       "        vertical-align: middle;\n",
       "    }\n",
       "\n",
       "    .dataframe tbody tr th {\n",
       "        vertical-align: top;\n",
       "    }\n",
       "\n",
       "    .dataframe thead th {\n",
       "        text-align: right;\n",
       "    }\n",
       "</style>\n",
       "<table border=\"1\" class=\"dataframe\">\n",
       "  <thead>\n",
       "    <tr style=\"text-align: right;\">\n",
       "      <th></th>\n",
       "      <th>term</th>\n",
       "      <th>num_courses</th>\n",
       "    </tr>\n",
       "  </thead>\n",
       "  <tbody>\n",
       "    <tr>\n",
       "      <th>0</th>\n",
       "      <td>4202</td>\n",
       "      <td>301</td>\n",
       "    </tr>\n",
       "    <tr>\n",
       "      <th>1</th>\n",
       "      <td>4206</td>\n",
       "      <td>95</td>\n",
       "    </tr>\n",
       "    <tr>\n",
       "      <th>2</th>\n",
       "      <td>4209</td>\n",
       "      <td>21</td>\n",
       "    </tr>\n",
       "  </tbody>\n",
       "</table>\n",
       "</div>"
      ],
      "text/plain": [
       "   term  num_courses\n",
       "0  4202          301\n",
       "1  4206           95\n",
       "2  4209           21"
      ]
     },
     "execution_count": 6,
     "metadata": {},
     "output_type": "execute_result"
    }
   ],
   "source": [
    "query = \"\"\"\n",
    "SELECT SUBSTR(cm.COURSE_ID,0,4) term, count(cm.COURSE_ID) num_courses\n",
    "FROM BB_BB60.COURSE_MAIN cm\n",
    "JOIN (select crsmain_pk1, count(pk1) as youtube\n",
    "           from bb_bb60.course_contents\n",
    "           where cnthndlr_handle = 'resource/x-bb-youtube-mashup'\n",
    "           group by crsmain_pk1) youtube on youtube.crsmain_pk1 = cm.pk1\n",
    "WHERE cm.COURSE_ID LIKE '42%'\n",
    "GROUP BY SUBSTR(cm.COURSE_ID,0,4)\n",
    "ORDER BY term\n",
    "\"\"\"\n",
    "pd.read_sql(query, con=engine).head()"
   ]
  },
  {
   "cell_type": "code",
   "execution_count": 13,
   "metadata": {},
   "outputs": [
    {
     "data": {
      "text/html": [
       "<div>\n",
       "<style scoped>\n",
       "    .dataframe tbody tr th:only-of-type {\n",
       "        vertical-align: middle;\n",
       "    }\n",
       "\n",
       "    .dataframe tbody tr th {\n",
       "        vertical-align: top;\n",
       "    }\n",
       "\n",
       "    .dataframe thead th {\n",
       "        text-align: right;\n",
       "    }\n",
       "</style>\n",
       "<table border=\"1\" class=\"dataframe\">\n",
       "  <thead>\n",
       "    <tr style=\"text-align: right;\">\n",
       "      <th></th>\n",
       "      <th>course_id</th>\n",
       "      <th>youtube_count</th>\n",
       "    </tr>\n",
       "  </thead>\n",
       "  <tbody>\n",
       "    <tr>\n",
       "      <th>0</th>\n",
       "      <td>4206-74310</td>\n",
       "      <td>1</td>\n",
       "    </tr>\n",
       "    <tr>\n",
       "      <th>1</th>\n",
       "      <td>4206-77659</td>\n",
       "      <td>1</td>\n",
       "    </tr>\n",
       "    <tr>\n",
       "      <th>2</th>\n",
       "      <td>4206-73407</td>\n",
       "      <td>1</td>\n",
       "    </tr>\n",
       "    <tr>\n",
       "      <th>3</th>\n",
       "      <td>4206-75321</td>\n",
       "      <td>1</td>\n",
       "    </tr>\n",
       "    <tr>\n",
       "      <th>4</th>\n",
       "      <td>4206-75609</td>\n",
       "      <td>1</td>\n",
       "    </tr>\n",
       "  </tbody>\n",
       "</table>\n",
       "</div>"
      ],
      "text/plain": [
       "    course_id  youtube_count\n",
       "0  4206-74310              1\n",
       "1  4206-77659              1\n",
       "2  4206-73407              1\n",
       "3  4206-75321              1\n",
       "4  4206-75609              1"
      ]
     },
     "execution_count": 13,
     "metadata": {},
     "output_type": "execute_result"
    }
   ],
   "source": [
    "query = \"\"\"\n",
    "SELECT cm.COURSE_ID, count(youtube) youtube_count\n",
    "FROM BB_BB60.COURSE_MAIN cm\n",
    "JOIN (select crsmain_pk1, count(pk1) as youtube\n",
    "           from bb_bb60.course_contents\n",
    "           where cnthndlr_handle = 'resource/x-bb-youtube-mashup'\n",
    "           group by crsmain_pk1) youtube on youtube.crsmain_pk1 = cm.pk1\n",
    "WHERE cm.COURSE_ID LIKE '4206-%'\n",
    "GROUP BY cm.COURSE_ID\n",
    "ORDER BY youtube_count desc\n",
    "\"\"\"\n",
    "pd.read_sql(query, con=engine).head()"
   ]
  },
  {
   "cell_type": "markdown",
   "metadata": {},
   "source": [
    "## Which courses are using monitor?\n",
    "query = \"\"\"\n",
    "SELECT cm.COURSE_ID, \n",
    "\"\"\"\n",
    "pd.read_sql(query, con=engine).head()"
   ]
  }
 ],
 "metadata": {
  "kernelspec": {
   "display_name": "Python 3",
   "language": "python",
   "name": "python3"
  },
  "language_info": {
   "codemirror_mode": {
    "name": "ipython",
    "version": 3
   },
   "file_extension": ".py",
   "mimetype": "text/x-python",
   "name": "python",
   "nbconvert_exporter": "python",
   "pygments_lexer": "ipython3",
   "version": "3.8.2"
  }
 },
 "nbformat": 4,
 "nbformat_minor": 4
}
