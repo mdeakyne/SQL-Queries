{
 "cells": [
  {
   "cell_type": "markdown",
   "metadata": {},
   "source": [
    "# Setup\n",
    "Hello.  Connecting to Oracle in Python is a trip and a half.  Connecting to SaaS or to Bb Data is supposedly easier - and I'm working to ensure that importing things works easily for everyone."
   ]
  },
  {
   "cell_type": "code",
   "execution_count": 10,
   "metadata": {},
   "outputs": [],
   "source": [
    "from sqlalchemy import create_engine\n",
    "from os import getenv as ge\n",
    "from dotenv import load_dotenv\n",
    "import pandas as pd\n",
    "from pprint import pprint\n",
    "\n",
    "load_dotenv()\n",
    "bbuser, bbpass, bbhost = ge('bbuser'), ge('bbpass'), ge('bbhost')\n",
    "con_string = f'oracle+cx_oracle://{bbuser}:{bbpass}@{bbhost}'\n",
    "engine = create_engine(con_string, max_identifier_length=128)"
   ]
  },
  {
   "cell_type": "markdown",
   "metadata": {},
   "source": [
    "### Simple example\n",
    "This selects 5 users and imports into a pandas dataframe"
   ]
  },
  {
   "cell_type": "code",
   "execution_count": 4,
   "metadata": {},
   "outputs": [],
   "source": [
    "query = \"\"\"\n",
    "SELECT user_id\n",
    "FROM BB_BB60.USERS\n",
    "FETCH FIRST 5 ROWS ONLY\n",
    "\"\"\"\n",
    "\n",
    "users = pd.read_sql_query(query, con=engine)"
   ]
  },
  {
   "cell_type": "code",
   "execution_count": 5,
   "metadata": {},
   "outputs": [
    {
     "data": {
      "text/html": [
       "<div>\n",
       "<style scoped>\n",
       "    .dataframe tbody tr th:only-of-type {\n",
       "        vertical-align: middle;\n",
       "    }\n",
       "\n",
       "    .dataframe tbody tr th {\n",
       "        vertical-align: top;\n",
       "    }\n",
       "\n",
       "    .dataframe thead th {\n",
       "        text-align: right;\n",
       "    }\n",
       "</style>\n",
       "<table border=\"1\" class=\"dataframe\">\n",
       "  <thead>\n",
       "    <tr style=\"text-align: right;\">\n",
       "      <th></th>\n",
       "      <th>user_id</th>\n",
       "    </tr>\n",
       "  </thead>\n",
       "  <tbody>\n",
       "    <tr>\n",
       "      <th>0</th>\n",
       "      <td>04292595_testuser</td>\n",
       "    </tr>\n",
       "    <tr>\n",
       "      <th>1</th>\n",
       "      <td>04294676_student</td>\n",
       "    </tr>\n",
       "    <tr>\n",
       "      <th>2</th>\n",
       "      <td>04578241_student</td>\n",
       "    </tr>\n",
       "    <tr>\n",
       "      <th>3</th>\n",
       "      <td>88smercer</td>\n",
       "    </tr>\n",
       "    <tr>\n",
       "      <th>4</th>\n",
       "      <td>_01018694_isaak</td>\n",
       "    </tr>\n",
       "  </tbody>\n",
       "</table>\n",
       "</div>"
      ],
      "text/plain": [
       "             user_id\n",
       "0  04292595_testuser\n",
       "1   04294676_student\n",
       "2   04578241_student\n",
       "3          88smercer\n",
       "4    _01018694_isaak"
      ]
     },
     "execution_count": 5,
     "metadata": {},
     "output_type": "execute_result"
    }
   ],
   "source": [
    "users.head()"
   ]
  },
  {
   "cell_type": "markdown",
   "metadata": {},
   "source": [
    "### Snowflake setup\n",
    "Connecting to snowflake is much easier.  Everything in this presentation is focused on Oracle PL/SQL, but if you are on SaaS - many examples can be translated and run against snowflake or postgres.  Here's how to connect via Snowflake."
   ]
  },
  {
   "cell_type": "code",
   "execution_count": 6,
   "metadata": {},
   "outputs": [],
   "source": [
    "from snowflake.sqlalchemy import URL\n",
    "snow_engine = create_engine(URL(\n",
    "    account = ge('snow_account'),\n",
    "    user = ge('snow_user'),\n",
    "    password = ge('snow_pass'),\n",
    "    database = ge('snow_db'),\n",
    "    warehouse = ge('snow_wh')\n",
    "))\n",
    "\n",
    "\n",
    "query = \"\"\"\n",
    "select\n",
    "    year(lt.start_date) as term_year,\n",
    "    ifnull(lt.name, 'Unknown Term') as term,\n",
    "    replace(ifnull(h2.name, 'No Parent'),'NoName', 'Institution') as hierarchy_parent_node,\n",
    "    ifnull(h1.name, 'No Node') as hierarchy_node,\n",
    "    count(distinct lc.id) as course_count\n",
    "from cdm_lms.course lc\n",
    "inner join cdm_lms.institution_hierarchy_course ihc\n",
    "    on lc.id = ihc.course_id\n",
    "    and ihc.primary_ind = 1\n",
    "    and ihc.row_deleted_time is null\n",
    "left join cdm_lms.institution_hierarchy h1\n",
    "    on ihc.institution_hierarchy_id = h1.id\n",
    "left join cdm_lms.institution_hierarchy h2\n",
    "    on h1.institution_hierarchy_parent_id = h2.id \n",
    "left join cdm_lms.term lt\n",
    "    on lt.id = lc.term_id\n",
    "group by\n",
    "    year(lt.start_date),\n",
    "    h1.name,\n",
    "    h2.name,\n",
    "    lt.name\n",
    "order by\n",
    "    year(lt.start_date),\n",
    "    lt.name,\n",
    "    h1.name\n",
    "\"\"\"\n",
    "example = pd.read_sql(query, con=snow_engine)                    "
   ]
  },
  {
   "cell_type": "code",
   "execution_count": 7,
   "metadata": {},
   "outputs": [
    {
     "data": {
      "text/html": [
       "<div>\n",
       "<style scoped>\n",
       "    .dataframe tbody tr th:only-of-type {\n",
       "        vertical-align: middle;\n",
       "    }\n",
       "\n",
       "    .dataframe tbody tr th {\n",
       "        vertical-align: top;\n",
       "    }\n",
       "\n",
       "    .dataframe thead th {\n",
       "        text-align: right;\n",
       "    }\n",
       "</style>\n",
       "<table border=\"1\" class=\"dataframe\">\n",
       "  <thead>\n",
       "    <tr style=\"text-align: right;\">\n",
       "      <th></th>\n",
       "      <th>term_year</th>\n",
       "      <th>term</th>\n",
       "      <th>hierarchy_parent_node</th>\n",
       "      <th>hierarchy_node</th>\n",
       "      <th>course_count</th>\n",
       "    </tr>\n",
       "  </thead>\n",
       "  <tbody>\n",
       "    <tr>\n",
       "      <th>0</th>\n",
       "      <td>2014.0</td>\n",
       "      <td>Fall 2014</td>\n",
       "      <td>Institution</td>\n",
       "      <td>Beta</td>\n",
       "      <td>10</td>\n",
       "    </tr>\n",
       "    <tr>\n",
       "      <th>1</th>\n",
       "      <td>2014.0</td>\n",
       "      <td>Fall 2014</td>\n",
       "      <td>Institution</td>\n",
       "      <td>Chemical Engineering</td>\n",
       "      <td>15</td>\n",
       "    </tr>\n",
       "    <tr>\n",
       "      <th>2</th>\n",
       "      <td>2014.0</td>\n",
       "      <td>Fall 2014</td>\n",
       "      <td>Institution</td>\n",
       "      <td>English</td>\n",
       "      <td>27</td>\n",
       "    </tr>\n",
       "    <tr>\n",
       "      <th>3</th>\n",
       "      <td>2014.0</td>\n",
       "      <td>Fall 2014</td>\n",
       "      <td>Institution</td>\n",
       "      <td>First Year</td>\n",
       "      <td>26</td>\n",
       "    </tr>\n",
       "    <tr>\n",
       "      <th>4</th>\n",
       "      <td>2014.0</td>\n",
       "      <td>Fall 2014</td>\n",
       "      <td>Institution</td>\n",
       "      <td>Honors</td>\n",
       "      <td>17</td>\n",
       "    </tr>\n",
       "  </tbody>\n",
       "</table>\n",
       "</div>"
      ],
      "text/plain": [
       "   term_year       term hierarchy_parent_node        hierarchy_node  \\\n",
       "0     2014.0  Fall 2014           Institution                  Beta   \n",
       "1     2014.0  Fall 2014           Institution  Chemical Engineering   \n",
       "2     2014.0  Fall 2014           Institution               English   \n",
       "3     2014.0  Fall 2014           Institution            First Year   \n",
       "4     2014.0  Fall 2014           Institution                Honors   \n",
       "\n",
       "   course_count  \n",
       "0            10  \n",
       "1            15  \n",
       "2            27  \n",
       "3            26  \n",
       "4            17  "
      ]
     },
     "execution_count": 7,
     "metadata": {},
     "output_type": "execute_result"
    }
   ],
   "source": [
    "example.head()"
   ]
  },
  {
   "cell_type": "markdown",
   "metadata": {},
   "source": [
    "# From files example"
   ]
  },
  {
   "cell_type": "code",
   "execution_count": 8,
   "metadata": {},
   "outputs": [],
   "source": [
    "query = ''\n",
    "with open('./queryfiles/no_access.sql','r') as f:\n",
    "    query = f.read()"
   ]
  },
  {
   "cell_type": "code",
   "execution_count": 11,
   "metadata": {},
   "outputs": [
    {
     "name": "stdout",
     "output_type": "stream",
     "text": [
      "(\"SELECT SUBSTR(REGEXP_SUBSTR(cm.COURSE_NAME, '-[A-Z&]+'),2) COURSE_UNIT,\\n\"\n",
      " \"       SUBSTR(REGEXP_SUBSTR(cm.COURSE_NAME, ' [A-Z]{3}$'),2) COURSE_TYPE,\\n\"\n",
      " \"       REPLACE(cm.COURSE_NAME,',',' ') COURSE_NAME,\\n\"\n",
      " '       cm.COURSE_ID,\\n'\n",
      " '       cm.AVAILABLE_IND,\\n'\n",
      " '       MAX(cu.LAST_ACCESS_DATE) last_access,\\n'\n",
      " '       SUM(students.students)/COUNT(students.students) student_count,\\n'\n",
      " \"       listagg(u.email, ';') WITHIN GROUP (order by u.email) emails,\\n\"\n",
      " \"       listagg(u.firstname || ' ' || u.LASTNAME, ';') WITHIN GROUP (order by \"\n",
      " 'u.email) names\\n'\n",
      " '\\n'\n",
      " 'FROM BB_BB60.USERS u inner join BB_BB60.COURSE_USERS cu on u.pk1 = '\n",
      " 'cu.USERS_PK1\\n'\n",
      " 'inner join BB_BB60.COURSE_MAIN cm on cu.CRSMAIN_PK1 = cm.pk1\\n'\n",
      " 'left join (select crsmain_pk1, count(pk1) students\\n'\n",
      " '    from bb_bb60.COURSE_USERS\\n'\n",
      " \"    where role='S'\\n\"\n",
      " '    and row_status = 0\\n'\n",
      " '    group by crsmain_pk1) students on students.crsmain_pk1 = cm.pk1\\n'\n",
      " '\\n'\n",
      " \"WHERE cm.COURSE_NAME LIKE '2020' || :season ||'-%' AND (cu.ROLE='P' OR \"\n",
      " \"cu.ROLE='T') AND\\n\"\n",
      " '      NOT EXISTS (SELECT cc.crsmain_pk1 course_id\\n'\n",
      " '      from bb_bb60.COURSE_COURSE cc WHERE cc.CRSMAIN_PK1 = cm.pk1)\\n'\n",
      " '\\n'\n",
      " 'GROUP BY cm.COURSE_NAME, cm.COURSE_ID, cm.AVAILABLE_IND\\n'\n",
      " 'HAVING SUM(students.students)/COUNT(students.students) IS NOT NULL\\n'\n",
      " 'ORDER BY student_count desc\\n')\n"
     ]
    }
   ],
   "source": [
    "pprint(query)"
   ]
  },
  {
   "cell_type": "markdown",
   "metadata": {},
   "source": [
    "# Creating Pandas DataFrames from SQL\n",
    "Pandas dataframes are the standard for working with data in python.  They can read in a variety of data files.  In this case, we are reading in SQL and querying the database.  Most of these queries seek to get a LOT of information, that can be paired down after the fact.  The same can be acheived directly by editing the query - but pandas helps us combine information from other sources, and write to files to a variety of other formats."
   ]
  },
  {
   "cell_type": "code",
   "execution_count": 14,
   "metadata": {},
   "outputs": [],
   "source": [
    "access_df = pd.read_sql(query, \n",
    "                        params={'season':'Fall'}, \n",
    "                        con=engine, \n",
    "                        parse_dates=['last_access'])"
   ]
  },
  {
   "cell_type": "code",
   "execution_count": 15,
   "metadata": {},
   "outputs": [
    {
     "data": {
      "text/html": [
       "<div>\n",
       "<style scoped>\n",
       "    .dataframe tbody tr th:only-of-type {\n",
       "        vertical-align: middle;\n",
       "    }\n",
       "\n",
       "    .dataframe tbody tr th {\n",
       "        vertical-align: top;\n",
       "    }\n",
       "\n",
       "    .dataframe thead th {\n",
       "        text-align: right;\n",
       "    }\n",
       "</style>\n",
       "<table border=\"1\" class=\"dataframe\">\n",
       "  <thead>\n",
       "    <tr style=\"text-align: right;\">\n",
       "      <th></th>\n",
       "      <th>course_unit</th>\n",
       "      <th>course_type</th>\n",
       "      <th>course_name</th>\n",
       "      <th>course_id</th>\n",
       "      <th>available_ind</th>\n",
       "      <th>last_access</th>\n",
       "      <th>student_count</th>\n",
       "      <th>emails</th>\n",
       "      <th>names</th>\n",
       "    </tr>\n",
       "  </thead>\n",
       "  <tbody>\n",
       "    <tr>\n",
       "      <th>0</th>\n",
       "      <td>SOC</td>\n",
       "      <td>LEC</td>\n",
       "      <td>2020Fall-SOC 104 Elements of Sociology LEC</td>\n",
       "      <td>4209-12904</td>\n",
       "      <td>N</td>\n",
       "      <td>NaT</td>\n",
       "      <td>659</td>\n",
       "      <td>lmw@ku.edu</td>\n",
       "      <td>Lisa-Marie Wright</td>\n",
       "    </tr>\n",
       "    <tr>\n",
       "      <th>1</th>\n",
       "      <td>LDST</td>\n",
       "      <td>LEC</td>\n",
       "      <td>2020Fall-LDST 301 It's On Us:  Gender Based Vi...</td>\n",
       "      <td>4209-28400</td>\n",
       "      <td>N</td>\n",
       "      <td>2020-07-06 13:39:24</td>\n",
       "      <td>535</td>\n",
       "      <td>soheath@ku.edu</td>\n",
       "      <td>Sony Heath</td>\n",
       "    </tr>\n",
       "    <tr>\n",
       "      <th>2</th>\n",
       "      <td>BIOL</td>\n",
       "      <td>LEC</td>\n",
       "      <td>2020Fall-BIOL 150 Principles of Molecular and ...</td>\n",
       "      <td>4209-10381</td>\n",
       "      <td>N</td>\n",
       "      <td>2020-07-01 11:19:06</td>\n",
       "      <td>525</td>\n",
       "      <td>ehotze@ku.edu;trivers@ku.edu</td>\n",
       "      <td>Eileen Hotze;Trevor Rivers</td>\n",
       "    </tr>\n",
       "    <tr>\n",
       "      <th>3</th>\n",
       "      <td>BIOL</td>\n",
       "      <td>LEC</td>\n",
       "      <td>2020Fall-BIOL 100 Principles of Biology LEC</td>\n",
       "      <td>4209-10339</td>\n",
       "      <td>N</td>\n",
       "      <td>NaT</td>\n",
       "      <td>522</td>\n",
       "      <td>kichler@ku.edu;tmarria@ku.edu</td>\n",
       "      <td>Kristina Holder;Tara Marriage</td>\n",
       "    </tr>\n",
       "    <tr>\n",
       "      <th>4</th>\n",
       "      <td>BUS</td>\n",
       "      <td>LEC</td>\n",
       "      <td>2020Fall-BUS 120 Emerging Topics in Business LEC</td>\n",
       "      <td>4209-29443</td>\n",
       "      <td>N</td>\n",
       "      <td>NaT</td>\n",
       "      <td>504</td>\n",
       "      <td>jfitchet@ku.edu;kkammerer@ku.edu</td>\n",
       "      <td>Janalee Fitchett;Karl Kammerer</td>\n",
       "    </tr>\n",
       "  </tbody>\n",
       "</table>\n",
       "</div>"
      ],
      "text/plain": [
       "  course_unit course_type                                        course_name  \\\n",
       "0         SOC         LEC         2020Fall-SOC 104 Elements of Sociology LEC   \n",
       "1        LDST         LEC  2020Fall-LDST 301 It's On Us:  Gender Based Vi...   \n",
       "2        BIOL         LEC  2020Fall-BIOL 150 Principles of Molecular and ...   \n",
       "3        BIOL         LEC        2020Fall-BIOL 100 Principles of Biology LEC   \n",
       "4         BUS         LEC   2020Fall-BUS 120 Emerging Topics in Business LEC   \n",
       "\n",
       "    course_id available_ind         last_access  student_count  \\\n",
       "0  4209-12904             N                 NaT            659   \n",
       "1  4209-28400             N 2020-07-06 13:39:24            535   \n",
       "2  4209-10381             N 2020-07-01 11:19:06            525   \n",
       "3  4209-10339             N                 NaT            522   \n",
       "4  4209-29443             N                 NaT            504   \n",
       "\n",
       "                             emails                           names  \n",
       "0                        lmw@ku.edu               Lisa-Marie Wright  \n",
       "1                    soheath@ku.edu                      Sony Heath  \n",
       "2      ehotze@ku.edu;trivers@ku.edu      Eileen Hotze;Trevor Rivers  \n",
       "3     kichler@ku.edu;tmarria@ku.edu   Kristina Holder;Tara Marriage  \n",
       "4  jfitchet@ku.edu;kkammerer@ku.edu  Janalee Fitchett;Karl Kammerer  "
      ]
     },
     "execution_count": 15,
     "metadata": {},
     "output_type": "execute_result"
    }
   ],
   "source": [
    "access_df.head()"
   ]
  },
  {
   "cell_type": "code",
   "execution_count": 16,
   "metadata": {},
   "outputs": [],
   "source": [
    "no_access_df = access_df[(access_df['course_type']=='LEC') & \n",
    "                         (access_df['available_ind']=='Y') & \n",
    "                         (access_df['last_access'] < pd.to_datetime(\"2020-07-06\"))]"
   ]
  },
  {
   "cell_type": "code",
   "execution_count": 17,
   "metadata": {},
   "outputs": [
    {
     "data": {
      "text/html": [
       "<div>\n",
       "<style scoped>\n",
       "    .dataframe tbody tr th:only-of-type {\n",
       "        vertical-align: middle;\n",
       "    }\n",
       "\n",
       "    .dataframe tbody tr th {\n",
       "        vertical-align: top;\n",
       "    }\n",
       "\n",
       "    .dataframe thead th {\n",
       "        text-align: right;\n",
       "    }\n",
       "</style>\n",
       "<table border=\"1\" class=\"dataframe\">\n",
       "  <thead>\n",
       "    <tr style=\"text-align: right;\">\n",
       "      <th></th>\n",
       "      <th>course_unit</th>\n",
       "      <th>course_type</th>\n",
       "      <th>course_name</th>\n",
       "      <th>course_id</th>\n",
       "      <th>available_ind</th>\n",
       "      <th>last_access</th>\n",
       "      <th>student_count</th>\n",
       "      <th>emails</th>\n",
       "      <th>names</th>\n",
       "    </tr>\n",
       "  </thead>\n",
       "  <tbody>\n",
       "    <tr>\n",
       "      <th>15</th>\n",
       "      <td>AE</td>\n",
       "      <td>LEC</td>\n",
       "      <td>2020Fall-AE 290 Aerospace Colloquium LEC</td>\n",
       "      <td>4209-10055</td>\n",
       "      <td>Y</td>\n",
       "      <td>2020-03-28 19:26:27</td>\n",
       "      <td>287</td>\n",
       "      <td>rtaghavi@ku.edu</td>\n",
       "      <td>Ray Taghavi</td>\n",
       "    </tr>\n",
       "    <tr>\n",
       "      <th>157</th>\n",
       "      <td>EECS</td>\n",
       "      <td>LEC</td>\n",
       "      <td>2020Fall-EECS 645 Computer Architecture LEC</td>\n",
       "      <td>4209-15749</td>\n",
       "      <td>Y</td>\n",
       "      <td>2020-06-08 14:33:24</td>\n",
       "      <td>83</td>\n",
       "      <td>esam@ku.edu</td>\n",
       "      <td>Esam Eldin Aly</td>\n",
       "    </tr>\n",
       "    <tr>\n",
       "      <th>255</th>\n",
       "      <td>AE</td>\n",
       "      <td>LEC</td>\n",
       "      <td>2020Fall-AE 571 Fundamentals of Airplane Recip...</td>\n",
       "      <td>4209-10069</td>\n",
       "      <td>Y</td>\n",
       "      <td>2020-03-28 19:30:27</td>\n",
       "      <td>55</td>\n",
       "      <td>rohith.giridhar91@ku.edu;rtaghavi@ku.edu</td>\n",
       "      <td>Rohith Giridhar;Ray Taghavi</td>\n",
       "    </tr>\n",
       "    <tr>\n",
       "      <th>452</th>\n",
       "      <td>PSYC</td>\n",
       "      <td>LEC</td>\n",
       "      <td>2020Fall-PSYC 375 Cognitive Neuroscience LEC</td>\n",
       "      <td>4209-22108</td>\n",
       "      <td>Y</td>\n",
       "      <td>2020-07-04 15:27:28</td>\n",
       "      <td>37</td>\n",
       "      <td>mattrosenthal@ku.edu</td>\n",
       "      <td>Matthew Rosenthal</td>\n",
       "    </tr>\n",
       "    <tr>\n",
       "      <th>524</th>\n",
       "      <td>PHSX</td>\n",
       "      <td>LEC</td>\n",
       "      <td>2020Fall-PHSX 531 Electricity and Magnetism LEC</td>\n",
       "      <td>4209-12505</td>\n",
       "      <td>Y</td>\n",
       "      <td>2020-04-28 19:44:39</td>\n",
       "      <td>34</td>\n",
       "      <td>medvedev@ku.edu</td>\n",
       "      <td>Mikhail Medvedev</td>\n",
       "    </tr>\n",
       "  </tbody>\n",
       "</table>\n",
       "</div>"
      ],
      "text/plain": [
       "    course_unit course_type  \\\n",
       "15           AE         LEC   \n",
       "157        EECS         LEC   \n",
       "255          AE         LEC   \n",
       "452        PSYC         LEC   \n",
       "524        PHSX         LEC   \n",
       "\n",
       "                                           course_name   course_id  \\\n",
       "15            2020Fall-AE 290 Aerospace Colloquium LEC  4209-10055   \n",
       "157        2020Fall-EECS 645 Computer Architecture LEC  4209-15749   \n",
       "255  2020Fall-AE 571 Fundamentals of Airplane Recip...  4209-10069   \n",
       "452       2020Fall-PSYC 375 Cognitive Neuroscience LEC  4209-22108   \n",
       "524    2020Fall-PHSX 531 Electricity and Magnetism LEC  4209-12505   \n",
       "\n",
       "    available_ind         last_access  student_count  \\\n",
       "15              Y 2020-03-28 19:26:27            287   \n",
       "157             Y 2020-06-08 14:33:24             83   \n",
       "255             Y 2020-03-28 19:30:27             55   \n",
       "452             Y 2020-07-04 15:27:28             37   \n",
       "524             Y 2020-04-28 19:44:39             34   \n",
       "\n",
       "                                       emails                        names  \n",
       "15                            rtaghavi@ku.edu                  Ray Taghavi  \n",
       "157                               esam@ku.edu               Esam Eldin Aly  \n",
       "255  rohith.giridhar91@ku.edu;rtaghavi@ku.edu  Rohith Giridhar;Ray Taghavi  \n",
       "452                      mattrosenthal@ku.edu            Matthew Rosenthal  \n",
       "524                           medvedev@ku.edu             Mikhail Medvedev  "
      ]
     },
     "execution_count": 17,
     "metadata": {},
     "output_type": "execute_result"
    }
   ],
   "source": [
    "no_access_df.head()"
   ]
  },
  {
   "cell_type": "markdown",
   "metadata": {},
   "source": [
    "# Creating Excel Files from Pandas"
   ]
  },
  {
   "cell_type": "code",
   "execution_count": 18,
   "metadata": {},
   "outputs": [],
   "source": [
    "from datetime import datetime\n",
    "date = datetime.today().strftime(\"%m-%d\")\n",
    "no_access_df.to_excel(f'{date}-NoAccess.xlsx')"
   ]
  },
  {
   "cell_type": "markdown",
   "metadata": {},
   "source": [
    "# Putting those excel files into onedrive"
   ]
  },
  {
   "cell_type": "markdown",
   "metadata": {},
   "source": [
    "### Setup MS Connection"
   ]
  },
  {
   "cell_type": "code",
   "execution_count": 19,
   "metadata": {},
   "outputs": [],
   "source": [
    "client_id = ge('client_id')\n",
    "authority_id = ge('authority_id')\n",
    "client_credential = ge('client_credential')\n",
    "drive_id = ge('drive_id')\n",
    "item_id = ge('item_id')"
   ]
  },
  {
   "cell_type": "code",
   "execution_count": 20,
   "metadata": {},
   "outputs": [],
   "source": [
    "from msal import ConfidentialClientApplication\n",
    "import requests\n",
    "\n",
    "app = ConfidentialClientApplication(client_id=client_id,\n",
    "                                    authority=f\"https://login.microsoftonline.com/{authority_id}\",\n",
    "                                    client_credential=client_credential)\n",
    "\n",
    "result = app.acquire_token_for_client(scopes=[\"https://graph.microsoft.com/.default\"])\n",
    "token = result['access_token']\n",
    "s = requests.Session()\n",
    "http_headers = {'Authorization': 'Bearer ' + result['access_token'],\n",
    "                'Accept': 'application/json',\n",
    "                'Content-Type': 'application/json'}\n",
    "s.headers.update(http_headers)\n",
    "base_url = 'https://graph.microsoft.com/beta'"
   ]
  },
  {
   "cell_type": "code",
   "execution_count": 21,
   "metadata": {},
   "outputs": [],
   "source": [
    "r = s.put(f\"{base_url}/drives/{drive_id}/items/{item_id}:/{date}-NoAccess.xlsx:/content\", \n",
    "            data=open(f'{date}-NoAccess.xlsx','rb'))"
   ]
  },
  {
   "cell_type": "code",
   "execution_count": 22,
   "metadata": {
    "collapsed": true,
    "jupyter": {
     "outputs_hidden": true
    }
   },
   "outputs": [
    {
     "data": {
      "text/plain": [
       "{'@odata.context': \"https://graph.microsoft.com/beta/$metadata#drives('b%212gKIaGIsfU-pWCgyfCEltNbxnxaD5cVLmJ4HlMYYp737N6aHJRFRRoUKxHMP1jfc')/items/$entity\", '@microsoft.graph.downloadUrl': 'https://kansas-my.sharepoint.com/personal/m500d520_home_ku_edu/_layouts/15/download.aspx?UniqueId=16c15b56-4ed4-41c3-ae3b-8fc0b6f827bb&Translate=false&tempauth=eyJ0eXAiOiJKV1QiLCJhbGciOiJub25lIn0.eyJhdWQiOiIwMDAwMDAwMy0wMDAwLTBmZjEtY2UwMC0wMDAwMDAwMDAwMDAva2Fuc2FzLW15LnNoYXJlcG9pbnQuY29tQDNjMTc2NTM2LWFmZTYtNDNmNS1iOTY2LTM2ZmVhYmJlM2MxYSIsImlzcyI6IjAwMDAwMDAzLTAwMDAtMGZmMS1jZTAwLTAwMDAwMDAwMDAwMCIsIm5iZiI6IjE1OTQ4MzgyMTMiLCJleHAiOiIxNTk0ODQxODEzIiwiZW5kcG9pbnR1cmwiOiJrKzM1bVdmZDRveXVIc0NHWVZ3L0h6UnR3NFFlQkJMVzJ1QXRJU1hBMUNvPSIsImVuZHBvaW50dXJsTGVuZ3RoIjoiMTUwIiwiaXNsb29wYmFjayI6IlRydWUiLCJjaWQiOiJOakZrWTJFM05tUXRPVEpoWVMwMFlqUTFMVGc1WVdVdE9UUTBaalprTkRrMFlqRTIiLCJ2ZXIiOiJoYXNoZWRwcm9vZnRva2VuIiwic2l0ZWlkIjoiTmpnNE9EQXlaR0V0TW1NMk1pMDBaamRrTFdFNU5UZ3RNamd6TWpkak1qRXlOV0kwIiwiYXBwX2Rpc3BsYXluYW1lIjoiS1UgSVQiLCJuYW1laWQiOiJlYTMyMjgwOC0xZjQwLTQxY2UtYWI1Zi00YjIxMWMyNDIxNDhAM2MxNzY1MzYtYWZlNi00M2Y1LWI5NjYtMzZmZWFiYmUzYzFhIiwicm9sZXMiOiJhbGxzaXRlcy53cml0ZSBncm91cC53cml0ZSBhbGxmaWxlcy53cml0ZSIsInR0IjoiMSIsInVzZVBlcnNpc3RlbnRDb29raWUiOm51bGx9.Z3dEdHJ0WEJtZlIwWGJ5TG9lYVJTUVFNWUcwZng5QXN5dERZSkppNmpjYz0&ApiVersion=2.0', 'createdDateTime': '2020-07-15T18:36:53Z', 'eTag': '\"{16C15B56-4ED4-41C3-AE3B-8FC0B6F827BB},1\"', 'id': '01I7N7DISWLPARNVCOYNA24O4PYC3PQJ53', 'lastModifiedDateTime': '2020-07-15T18:36:53Z', 'name': '07-15-NoAccess.xlsx', 'webUrl': 'https://kansas-my.sharepoint.com/personal/m500d520_home_ku_edu/_layouts/15/Doc.aspx?sourcedoc=%7B16C15B56-4ED4-41C3-AE3B-8FC0B6F827BB%7D&file=07-15-NoAccess.xlsx&action=default&mobileredirect=true', 'cTag': '\"c:{16C15B56-4ED4-41C3-AE3B-8FC0B6F827BB},1\"', 'size': 7928, 'createdBy': {'application': {'id': 'ea322808-1f40-41ce-ab5f-4b211c242148', 'displayName': 'My Python App'}}, 'lastModifiedBy': {'application': {'id': 'ea322808-1f40-41ce-ab5f-4b211c242148', 'displayName': 'My Python App'}}, 'parentReference': {'driveId': 'b!2gKIaGIsfU-pWCgyfCEltNbxnxaD5cVLmJ4HlMYYp737N6aHJRFRRoUKxHMP1jfc', 'driveType': 'business', 'id': '01I7N7DIUYBUPBAZQUPNAJ6UNJ5VRBPFPJ', 'path': '/drives/b!2gKIaGIsfU-pWCgyfCEltNbxnxaD5cVLmJ4HlMYYp737N6aHJRFRRoUKxHMP1jfc/root:/DevCon Test'}, 'file': {'mimeType': 'application/vnd.openxmlformats-officedocument.spreadsheetml.sheet', 'hashes': {'quickXorHash': 'pqAsfwN1E+UoT50EwdbFLdGrauU='}}, 'fileSystemInfo': {'createdDateTime': '2020-07-15T18:36:53Z', 'lastModifiedDateTime': '2020-07-15T18:36:53Z'}, 'shared': {'scope': 'users'}}"
      ]
     },
     "execution_count": 22,
     "metadata": {},
     "output_type": "execute_result"
    }
   ],
   "source": [
    "r.json()"
   ]
  },
  {
   "cell_type": "code",
   "execution_count": null,
   "metadata": {},
   "outputs": [],
   "source": []
  }
 ],
 "metadata": {
  "kernelspec": {
   "display_name": "Python 3",
   "language": "python",
   "name": "python3"
  },
  "language_info": {
   "codemirror_mode": {
    "name": "ipython",
    "version": 3
   },
   "file_extension": ".py",
   "mimetype": "text/x-python",
   "name": "python",
   "nbconvert_exporter": "python",
   "pygments_lexer": "ipython3",
   "version": "3.8.2"
  }
 },
 "nbformat": 4,
 "nbformat_minor": 4
}
